{
 "cells": [
  {
   "cell_type": "code",
   "execution_count": 4,
   "id": "588b540b",
   "metadata": {},
   "outputs": [
    {
     "ename": "TypeError",
     "evalue": "QuantumCircuit.measure() got an unexpected keyword argument 'basis'",
     "output_type": "error",
     "traceback": [
      "\u001b[1;31m---------------------------------------------------------------------------\u001b[0m",
      "\u001b[1;31mTypeError\u001b[0m                                 Traceback (most recent call last)",
      "Cell \u001b[1;32mIn[4], line 26\u001b[0m\n\u001b[0;32m     23\u001b[0m qc\u001b[38;5;241m.\u001b[39madd_register(c1)\n\u001b[0;32m     25\u001b[0m qc\u001b[38;5;241m.\u001b[39mh(q[\u001b[38;5;241m0\u001b[39m])\n\u001b[1;32m---> 26\u001b[0m \u001b[43mqc\u001b[49m\u001b[38;5;241;43m.\u001b[39;49m\u001b[43mmeasure\u001b[49m\u001b[43m(\u001b[49m\u001b[43mq\u001b[49m\u001b[43m[\u001b[49m\u001b[38;5;241;43m0\u001b[39;49m\u001b[43m]\u001b[49m\u001b[43m,\u001b[49m\u001b[43m \u001b[49m\u001b[43mc1\u001b[49m\u001b[43m[\u001b[49m\u001b[38;5;241;43m0\u001b[39;49m\u001b[43m]\u001b[49m\u001b[43m,\u001b[49m\u001b[43mbasis\u001b[49m\u001b[38;5;241;43m=\u001b[39;49m\u001b[38;5;124;43m\"\u001b[39;49m\u001b[38;5;124;43mEnsemble\u001b[39;49m\u001b[38;5;124;43m\"\u001b[39;49m\u001b[43m,\u001b[49m\u001b[43madd_param\u001b[49m\u001b[38;5;241;43m=\u001b[39;49m\u001b[38;5;124;43m\"\u001b[39;49m\u001b[38;5;124;43mZ\u001b[39;49m\u001b[38;5;124;43m\"\u001b[39;49m\u001b[43m)\u001b[49m\n\u001b[0;32m     28\u001b[0m backend \u001b[38;5;241m=\u001b[39m BasicAer\u001b[38;5;241m.\u001b[39mget_backend(\u001b[38;5;124m'\u001b[39m\u001b[38;5;124mdm_simulator\u001b[39m\u001b[38;5;124m'\u001b[39m)\n\u001b[0;32m     29\u001b[0m job \u001b[38;5;241m=\u001b[39m execute(qc, backend\u001b[38;5;241m=\u001b[39mbackend, \u001b[38;5;241m*\u001b[39m\u001b[38;5;241m*\u001b[39moptions)\n",
      "\u001b[1;31mTypeError\u001b[0m: QuantumCircuit.measure() got an unexpected keyword argument 'basis'"
     ]
    }
   ],
   "source": [
    "## Example showing HADAMARD Gate\n",
    "from qiskit import QuantumRegister, ClassicalRegister\n",
    "from qiskit import QuantumCircuit, execute, BasicAer\n",
    "import numpy as np\n",
    "\n",
    "#Options & Noise goes here - Don't change options variable name & block\n",
    "options = { \n",
    "'plot': True,\n",
    "\"rotation_error\": {'rx':[1.0, 0.0], 'ry':[1.0, 0.0], 'rz':[1.0,0.0]},\n",
    "\"tsp_model_error\": [1.0, 0.0],\n",
    "\"thermal_factor\": 1.0,\n",
    "\"decoherence_factor\": 1.0,\n",
    "\"depolarization_factor\": 1.0,\n",
    "\"bell_depolarization_factor\": 1.0,\n",
    "\"decay_factor\": 1.0,\n",
    "}\n",
    "#####Write your code after this line######\n",
    "qc = QuantumCircuit()\n",
    "q = QuantumRegister(1, 'q')\n",
    "c1 = ClassicalRegister(1, 'c1')\n",
    "\n",
    "qc.add_register(q)\n",
    "qc.add_register(c1)\n",
    "\n",
    "qc.h(q[0])\n",
    "qc.measure(q[0], c1[0],basis=\"Ensemble\",add_param=\"Z\")\n",
    "\n",
    "backend = BasicAer.get_backend('dm_simulator')\n",
    "job = execute(qc, backend=backend, **options)\n",
    "job_result = job.result()\n",
    "print(job_result.results[0].data.ensemble_probability)\n"
   ]
  },
  {
   "cell_type": "code",
   "execution_count": 3,
   "id": "e41c8a9e",
   "metadata": {},
   "outputs": [
    {
     "ename": "TypeError",
     "evalue": "QuantumCircuit.measure() got an unexpected keyword argument 'basis'",
     "output_type": "error",
     "traceback": [
      "\u001b[1;31m---------------------------------------------------------------------------\u001b[0m",
      "\u001b[1;31mTypeError\u001b[0m                                 Traceback (most recent call last)",
      "Cell \u001b[1;32mIn[3], line 26\u001b[0m\n\u001b[0;32m     23\u001b[0m qc\u001b[38;5;241m.\u001b[39madd_register(c1)\n\u001b[0;32m     25\u001b[0m qc\u001b[38;5;241m.\u001b[39mh(q[\u001b[38;5;241m0\u001b[39m])\n\u001b[1;32m---> 26\u001b[0m \u001b[43mqc\u001b[49m\u001b[38;5;241;43m.\u001b[39;49m\u001b[43mmeasure\u001b[49m\u001b[43m(\u001b[49m\u001b[43mq\u001b[49m\u001b[43m[\u001b[49m\u001b[38;5;241;43m0\u001b[39;49m\u001b[43m]\u001b[49m\u001b[43m,\u001b[49m\u001b[43m \u001b[49m\u001b[43mc1\u001b[49m\u001b[43m[\u001b[49m\u001b[38;5;241;43m0\u001b[39;49m\u001b[43m]\u001b[49m\u001b[43m,\u001b[49m\u001b[43mbasis\u001b[49m\u001b[38;5;241;43m=\u001b[39;49m\u001b[38;5;124;43m\"\u001b[39;49m\u001b[38;5;124;43mEnsemble\u001b[39;49m\u001b[38;5;124;43m\"\u001b[39;49m\u001b[43m,\u001b[49m\u001b[43madd_param\u001b[49m\u001b[38;5;241;43m=\u001b[39;49m\u001b[38;5;124;43m\"\u001b[39;49m\u001b[38;5;124;43mZ\u001b[39;49m\u001b[38;5;124;43m\"\u001b[39;49m\u001b[43m)\u001b[49m\n\u001b[0;32m     28\u001b[0m backend \u001b[38;5;241m=\u001b[39m BasicAer\u001b[38;5;241m.\u001b[39mget_backend(\u001b[38;5;124m'\u001b[39m\u001b[38;5;124mdm_simulator\u001b[39m\u001b[38;5;124m'\u001b[39m)\n\u001b[0;32m     29\u001b[0m job \u001b[38;5;241m=\u001b[39m execute(qc, backend\u001b[38;5;241m=\u001b[39mbackend, \u001b[38;5;241m*\u001b[39m\u001b[38;5;241m*\u001b[39moptions)\n",
      "\u001b[1;31mTypeError\u001b[0m: QuantumCircuit.measure() got an unexpected keyword argument 'basis'"
     ]
    }
   ],
   "source": []
  },
  {
   "cell_type": "code",
   "execution_count": null,
   "id": "1e5b9797",
   "metadata": {},
   "outputs": [],
   "source": []
  }
 ],
 "metadata": {
  "kernelspec": {
   "display_name": "Python 3 (ipykernel)",
   "language": "python",
   "name": "python3"
  },
  "language_info": {
   "codemirror_mode": {
    "name": "ipython",
    "version": 3
   },
   "file_extension": ".py",
   "mimetype": "text/x-python",
   "name": "python",
   "nbconvert_exporter": "python",
   "pygments_lexer": "ipython3",
   "version": "3.10.1"
  }
 },
 "nbformat": 4,
 "nbformat_minor": 5
}
