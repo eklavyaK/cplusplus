{
 "cells": [
  {
   "cell_type": "code",
   "execution_count": 1,
   "metadata": {},
   "outputs": [
    {
     "name": "stdout",
     "output_type": "stream",
     "text": [
      "CSV file 'Rough.csv' has been created successfully.\n"
     ]
    }
   ],
   "source": [
    "import csv \n",
    "import random\n",
    "\n",
    "a = []\n",
    "A, B, X, Y, N = [], [], [], [], []\n",
    "H = 1; C = 1\n",
    "for i in range(100):\n",
    "\tif(i + 1 <= 20): a.append(['hemishpere',  'up']);\n",
    "\tif(i + 1 > 20 and i + 1 <= 40): a.append(['hemishpere',  'down'])\n",
    "\tif(i + 1 > 40 and i + 1 <= 80): a.append(['cone',  'up'])\n",
    "\tif(i + 1 > 80 and i + 1 <= 100): a.append(['cone',  'down'])\n",
    "\n",
    "for i in range(100): random.shuffle(a)\n",
    "x = -4.5\n",
    "for i in a:\n",
    "\tA.append(i[0])\n",
    "\tB.append(i[1])\n",
    "\tif(i[0] == 'hemishpere') :\n",
    "\t\tN.append(H)\n",
    "\t\tH += 1\n",
    "\tif(i[0] == 'cone') :\n",
    "\t\tN.append(C)\n",
    "\t\tC += 1\n",
    "\n",
    "for i in range(10):\n",
    "\ty = -4.5\n",
    "\tfor j in range(10):\n",
    "\t\tX.append(x)\n",
    "\t\tY.append(y)\n",
    "\t\ty += 1\n",
    "\tx += 1\n",
    "\n",
    "data = zip(A, N, B, X, Y)\n",
    "\n",
    "# Write data to CSV file\n",
    "with open('Rough.csv', 'w', newline='') as csvfile:\n",
    "    writer = csv.writer(csvfile)\n",
    "    writer.writerows(data)\n",
    "\n",
    "print(\"CSV file 'Rough.csv' has been created successfully.\")"
   ]
  }
 ],
 "metadata": {
  "kernelspec": {
   "display_name": "Python 3",
   "language": "python",
   "name": "python3"
  },
  "language_info": {
   "codemirror_mode": {
    "name": "ipython",
    "version": 3
   },
   "file_extension": ".py",
   "mimetype": "text/x-python",
   "name": "python",
   "nbconvert_exporter": "python",
   "pygments_lexer": "ipython3",
   "version": "3.10.1"
  }
 },
 "nbformat": 4,
 "nbformat_minor": 2
}
